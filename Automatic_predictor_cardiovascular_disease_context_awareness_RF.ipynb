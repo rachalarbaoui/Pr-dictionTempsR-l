{
  "nbformat": 4,
  "nbformat_minor": 0,
  "metadata": {
    "colab": {
      "name": "Automatic predictor cardiovascular disease context awareness RF.ipynb",
      "provenance": [],
      "collapsed_sections": []
    },
    "kernelspec": {
      "name": "python3",
      "display_name": "Python 3"
    },
    "language_info": {
      "name": "python"
    }
  },
  "cells": [
    {
      "cell_type": "code",
      "metadata": {
        "id": "5F6DslyYZzFo"
      },
      "source": [
        "import pandas as pd\n",
        "from sklearn.ensemble import RandomForestClassifier\n",
        "import pickle\n",
        "import csv"
      ],
      "execution_count": null,
      "outputs": []
    },
    {
      "cell_type": "code",
      "metadata": {
        "colab": {
          "base_uri": "https://localhost:8080/"
        },
        "id": "-TfkRijwaUxN",
        "outputId": "80258604-adcf-4911-aa9f-7199c9fa678a"
      },
      "source": [
        "from google.colab import drive\n",
        "drive.mount('/content/Drive')"
      ],
      "execution_count": null,
      "outputs": [
        {
          "output_type": "stream",
          "text": [
            "Drive already mounted at /content/Drive; to attempt to forcibly remount, call drive.mount(\"/content/Drive\", force_remount=True).\n"
          ],
          "name": "stdout"
        }
      ]
    },
    {
      "cell_type": "markdown",
      "metadata": {
        "id": "POMBkMOamWgW"
      },
      "source": [
        "Dans ce détecteur automatique, nous essaierons d'automatiser le processus de classification.\n",
        "après les expériences précédentes, nous avons vu que la précision des modèles de perception textuelle dépasse le modèle général lorsque l'âge est compris entre 30 et 50 ans ([30,50]) mais que la précision générale du modèle l'emporte lorsque l'âge est compris entre 51 et 65 ans ([51,65]). ]).\n",
        "nous allons donc créer une combinaison des trois premiers modèles d'approche de la conscience du contexte et du modèle général et classer par l'un des modèles en fonction de l'âge du patient.\n",
        "les étapes à suivre sont donc les suivantes:\n",
        "1. importer les quatre modèles et le jeu de données.\n",
        "2. choisissez au hasard une ligne à partir de celui-ci (au lieu de saisir les données manuellement)\n",
        "3. supprimez la colonne des maladies cardio-vasculaires et extrayez l'âge du patient de la ligne.\n",
        "4. classer le patient dans l'un des modèles selon son âge.\n",
        "5. imprimez si le patient a une maladie cardio-vasculaire ou non."
      ]
    },
    {
      "cell_type": "markdown",
      "metadata": {
        "id": "WMzd_NrjtMcJ"
      },
      "source": [
        "#1.  Importation des quatre modèles et du jeu de données."
      ]
    },
    {
      "cell_type": "code",
      "metadata": {
        "id": "V_q8vRmwaYVm"
      },
      "source": [
        "reader = csv.reader(open(\"/content/Drive/MyDrive/context awareness datasets/cardiovascular dataset/Copy of cardiovascular_diseases_dv3.csv\", \"r\"), delimiter=';')\n",
        "writer = csv.writer(open(\"/home/cardiovascular_diseases_dv3.csv\", 'w'), delimiter=',')\n",
        "writer.writerows(reader)"
      ],
      "execution_count": null,
      "outputs": []
    },
    {
      "cell_type": "code",
      "metadata": {
        "id": "xw22YwTzaY-K"
      },
      "source": [
        "df = pd.read_csv(\"/home/cardiovascular_diseases_dv3.csv\")\n"
      ],
      "execution_count": null,
      "outputs": []
    },
    {
      "cell_type": "code",
      "metadata": {
        "id": "NdsC9Gswa3vG"
      },
      "source": [
        "CA_model1=pickle.load(open('/content/Drive/MyDrive/context awareness models/cardiovascular models/random forest models/model 1 optimized acc_86_016.sav', 'rb'))\n",
        "CA_model2=pickle.load(open('/content/Drive/MyDrive/context awareness models/cardiovascular models/random forest models/model 2 optimized acc_80_465.sav', 'rb'))\n",
        "CA_model3=pickle.load(open('/content/Drive/MyDrive/context awareness models/cardiovascular models/random forest models/model 3 optimized acc_75_442.sav', 'rb'))\n",
        "G_model=pickle.load(open('/content/Drive/MyDrive/Cardio vascular models/model random forest with cross validation acc_73_397.sav', 'rb'))"
      ],
      "execution_count": null,
      "outputs": []
    },
    {
      "cell_type": "markdown",
      "metadata": {
        "id": "tnJCq_B6taXx"
      },
      "source": [
        "#2. choisissez au hasard une ligne à partir de celui-ci (au lieu de saisir les données manuellement)   "
      ]
    },
    {
      "cell_type": "code",
      "metadata": {
        "colab": {
          "base_uri": "https://localhost:8080/",
          "height": 80
        },
        "id": "sBsuOkdDbGB5",
        "outputId": "18a02b57-31b9-4331-9db3-79a813d3328c"
      },
      "source": [
        "data_point = df.sample()\n",
        "data_point"
      ],
      "execution_count": null,
      "outputs": [
        {
          "output_type": "execute_result",
          "data": {
            "text/html": [
              "<div>\n",
              "<style scoped>\n",
              "    .dataframe tbody tr th:only-of-type {\n",
              "        vertical-align: middle;\n",
              "    }\n",
              "\n",
              "    .dataframe tbody tr th {\n",
              "        vertical-align: top;\n",
              "    }\n",
              "\n",
              "    .dataframe thead th {\n",
              "        text-align: right;\n",
              "    }\n",
              "</style>\n",
              "<table border=\"1\" class=\"dataframe\">\n",
              "  <thead>\n",
              "    <tr style=\"text-align: right;\">\n",
              "      <th></th>\n",
              "      <th>AGE</th>\n",
              "      <th>GENDER</th>\n",
              "      <th>HEIGHT</th>\n",
              "      <th>WEIGHT</th>\n",
              "      <th>AP_HIGH</th>\n",
              "      <th>AP_LOW</th>\n",
              "      <th>CHOLESTEROL</th>\n",
              "      <th>GLUCOSE</th>\n",
              "      <th>SMOKE</th>\n",
              "      <th>ALCOHOL</th>\n",
              "      <th>PHYSICAL_ACTIVITY</th>\n",
              "      <th>CARDIO_DISEASE</th>\n",
              "    </tr>\n",
              "  </thead>\n",
              "  <tbody>\n",
              "    <tr>\n",
              "      <th>6773</th>\n",
              "      <td>61</td>\n",
              "      <td>1</td>\n",
              "      <td>155</td>\n",
              "      <td>53</td>\n",
              "      <td>120</td>\n",
              "      <td>80</td>\n",
              "      <td>1</td>\n",
              "      <td>1</td>\n",
              "      <td>0</td>\n",
              "      <td>0</td>\n",
              "      <td>1</td>\n",
              "      <td>1</td>\n",
              "    </tr>\n",
              "  </tbody>\n",
              "</table>\n",
              "</div>"
            ],
            "text/plain": [
              "      AGE  GENDER  HEIGHT  ...  ALCOHOL  PHYSICAL_ACTIVITY  CARDIO_DISEASE\n",
              "6773   61       1     155  ...        0                  1               1\n",
              "\n",
              "[1 rows x 12 columns]"
            ]
          },
          "metadata": {
            "tags": []
          },
          "execution_count": 15
        }
      ]
    },
    {
      "cell_type": "markdown",
      "metadata": {
        "id": "Tx3hN_zBvSdM"
      },
      "source": [
        "#3. supprimer la colonne des maladies cardiaques et extraire l'âge du patient de la ligne."
      ]
    },
    {
      "cell_type": "code",
      "metadata": {
        "colab": {
          "base_uri": "https://localhost:8080/",
          "height": 80
        },
        "id": "VmTIU7mBb09L",
        "outputId": "76a79809-c9b8-4294-9a6c-ba091b5853b9"
      },
      "source": [
        "X=data_point.drop(\"CARDIO_DISEASE\", axis = 1)\n",
        "age=X.iloc[0]['AGE']\n",
        "X"
      ],
      "execution_count": null,
      "outputs": [
        {
          "output_type": "execute_result",
          "data": {
            "text/html": [
              "<div>\n",
              "<style scoped>\n",
              "    .dataframe tbody tr th:only-of-type {\n",
              "        vertical-align: middle;\n",
              "    }\n",
              "\n",
              "    .dataframe tbody tr th {\n",
              "        vertical-align: top;\n",
              "    }\n",
              "\n",
              "    .dataframe thead th {\n",
              "        text-align: right;\n",
              "    }\n",
              "</style>\n",
              "<table border=\"1\" class=\"dataframe\">\n",
              "  <thead>\n",
              "    <tr style=\"text-align: right;\">\n",
              "      <th></th>\n",
              "      <th>AGE</th>\n",
              "      <th>GENDER</th>\n",
              "      <th>HEIGHT</th>\n",
              "      <th>WEIGHT</th>\n",
              "      <th>AP_HIGH</th>\n",
              "      <th>AP_LOW</th>\n",
              "      <th>CHOLESTEROL</th>\n",
              "      <th>GLUCOSE</th>\n",
              "      <th>SMOKE</th>\n",
              "      <th>ALCOHOL</th>\n",
              "      <th>PHYSICAL_ACTIVITY</th>\n",
              "    </tr>\n",
              "  </thead>\n",
              "  <tbody>\n",
              "    <tr>\n",
              "      <th>6773</th>\n",
              "      <td>61</td>\n",
              "      <td>1</td>\n",
              "      <td>155</td>\n",
              "      <td>53</td>\n",
              "      <td>120</td>\n",
              "      <td>80</td>\n",
              "      <td>1</td>\n",
              "      <td>1</td>\n",
              "      <td>0</td>\n",
              "      <td>0</td>\n",
              "      <td>1</td>\n",
              "    </tr>\n",
              "  </tbody>\n",
              "</table>\n",
              "</div>"
            ],
            "text/plain": [
              "      AGE  GENDER  HEIGHT  WEIGHT  ...  GLUCOSE  SMOKE  ALCOHOL  PHYSICAL_ACTIVITY\n",
              "6773   61       1     155      53  ...        1      0        0                  1\n",
              "\n",
              "[1 rows x 11 columns]"
            ]
          },
          "metadata": {
            "tags": []
          },
          "execution_count": 18
        }
      ]
    },
    {
      "cell_type": "markdown",
      "metadata": {
        "id": "IXKE0YS3vodf"
      },
      "source": [
        "#4. classer le patient dans l'un des modèles en fonction de son âge ."
      ]
    },
    {
      "cell_type": "code",
      "metadata": {
        "id": "zPT3cjp3cU5B"
      },
      "source": [
        "if ((age >50 ) | (age <30) ):\n",
        "  prediction=G_model.predict(X)\n",
        "elif ((age >=30 ) & (age <=40)):\n",
        "  prediction=CA_model1.predict(X)\n",
        "elif ((age >40 ) & (age <=45)):\n",
        "  prediction=CA_model2.predict(X)\n",
        "elif ((age >45 ) & (age <=50)):\n",
        "  prediction=CA_model3.predict(X)\n"
      ],
      "execution_count": null,
      "outputs": []
    },
    {
      "cell_type": "markdown",
      "metadata": {
        "id": "1AKeQx-0wolp"
      },
      "source": [
        "#5.prédire  si le patient a une maladie cardiaque ou non."
      ]
    },
    {
      "cell_type": "code",
      "metadata": {
        "colab": {
          "base_uri": "https://localhost:8080/"
        },
        "id": "NI54m90Kje5k",
        "outputId": "d599822c-3923-40dd-b527-570a501d9950"
      },
      "source": [
        "if (prediction[0]==1) : \n",
        "  print(\"THis patient have CARDIO DISEASE\")\n",
        "else :\n",
        "  print (\"This patient is HEALTHY\")"
      ],
      "execution_count": null,
      "outputs": [
        {
          "output_type": "stream",
          "text": [
            "THis patient have CARDIO DISEASE\n"
          ],
          "name": "stdout"
        }
      ]
    }
  ]
}